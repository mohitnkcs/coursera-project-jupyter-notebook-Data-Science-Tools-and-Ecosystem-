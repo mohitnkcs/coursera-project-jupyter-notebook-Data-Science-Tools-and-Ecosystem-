{
 "cells": [
  {
   "cell_type": "markdown",
   "id": "cda1e99a-7460-4b86-a105-8a95ea80ef88",
   "metadata": {},
   "source": [
    "# Data Science Tools And Ecosystem\n"
   ]
  },
  {
   "cell_type": "markdown",
   "id": "81f42af6-cb86-4f6b-b440-dab939e8347b",
   "metadata": {},
   "source": [
    "In this Notebook, Data Science Tools And Ecosystem are summarized."
   ]
  },
  {
   "cell_type": "markdown",
   "id": "d31a0140-8e20-485b-8c73-f55c93620bb8",
   "metadata": {},
   "source": [
    "Some of the popular languages that Data Scientists use are:\n",
    "1. Python\n",
    "2. R\n",
    "3. Scala"
   ]
  },
  {
   "cell_type": "markdown",
   "id": "425b9760-1f58-424c-943e-ed43bfd524e2",
   "metadata": {},
   "source": [
    "Some of the commonly used libraries used by Data Scientists include:\n",
    "1. Numpy\n",
    "2. Pandas\n",
    "3. Scikit Learn"
   ]
  },
  {
   "cell_type": "markdown",
   "id": "baba00fd-5288-4060-bfb1-49157217cb7d",
   "metadata": {},
   "source": [
    "|Data Science Tools|\n",
    "|------------------|\n",
    "|Jupyter Notebook|\n",
    "|VS Code|\n",
    "|Google Colab|\n"
   ]
  },
  {
   "cell_type": "markdown",
   "id": "a743df0e-69d5-4662-b11c-9ca15859df0a",
   "metadata": {},
   "source": [
    "### Below are a few examples of evaluating arithmetic expressions in Python."
   ]
  },
  {
   "cell_type": "code",
   "execution_count": 1,
   "id": "3e8a241d-f127-4ea4-ad91-199173eb3196",
   "metadata": {},
   "outputs": [
    {
     "data": {
      "text/plain": [
       "17"
      ]
     },
     "execution_count": 1,
     "metadata": {},
     "output_type": "execute_result"
    }
   ],
   "source": [
    "#This a simple arithmetic expression to mutiply then add integers\n",
    "(3*4)+5\n"
   ]
  },
  {
   "cell_type": "code",
   "execution_count": 2,
   "id": "aba67a91-2e76-4e26-9475-1d25f986de2f",
   "metadata": {},
   "outputs": [
    {
     "data": {
      "text/plain": [
       "3.3333333333333335"
      ]
     },
     "execution_count": 2,
     "metadata": {},
     "output_type": "execute_result"
    }
   ],
   "source": [
    "#This will convert 200 minutes to hours by diving by 60\n",
    "#minutes : 200\n",
    "#formula used : minutes/60\n",
    "200/60"
   ]
  },
  {
   "cell_type": "markdown",
   "id": "5a785e80-aead-4084-931b-404722423951",
   "metadata": {},
   "source": [
    "**Objectives:**\n",
    "- listing popular languages for data science\n",
    "- converting times in minutes into hours\n",
    "- making an ordered list\n",
    "- table for data science tools\n",
    "- using a simple arithemtic expression\n",
    "- "
   ]
  },
  {
   "cell_type": "markdown",
   "id": "18c9c718-9aef-4190-b2ba-d9a00daae49b",
   "metadata": {},
   "source": [
    "## Author:\n",
    "Mohitsingh Bordiya"
   ]
  },
  {
   "cell_type": "code",
   "execution_count": null,
   "id": "b138a8f6-bb5d-456e-ac4f-e4001a333a12",
   "metadata": {},
   "outputs": [],
   "source": []
  }
 ],
 "metadata": {
  "kernelspec": {
   "display_name": "Python 3 (ipykernel)",
   "language": "python",
   "name": "python3"
  },
  "language_info": {
   "codemirror_mode": {
    "name": "ipython",
    "version": 3
   },
   "file_extension": ".py",
   "mimetype": "text/x-python",
   "name": "python",
   "nbconvert_exporter": "python",
   "pygments_lexer": "ipython3",
   "version": "3.12.3"
  }
 },
 "nbformat": 4,
 "nbformat_minor": 5
}
